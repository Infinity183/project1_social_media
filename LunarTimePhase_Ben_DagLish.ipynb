{
 "cells": [
  {
   "cell_type": "code",
   "execution_count": 1,
   "metadata": {},
   "outputs": [],
   "source": [
    "#http://ben-daglish.net/moon.shtml\n",
    "\n",
    "######The Moon Phase Calculators below were found on the http://ben-daglish.net/moon.shtml website######\n",
    "######Accompanying notes below are also from the ben-daglish website######\n",
    "\n",
    "#The two 'Trig' ones are the more accurate, but the 'Simple' and the 'Conway' are quicker. You could use any of them in a loop (say, \n",
    "#when printing a monthly calendar), or just to find out the state of the moon today.                                                                                                                               \n",
    "#All the routines are contained within a single file here. Take which one you like and strip out the rest. Happy coding!\n",
    "\n",
    "#http://ben-daglish.net/moon.shtml"
   ]
  },
  {
   "cell_type": "code",
   "execution_count": 2,
   "metadata": {},
   "outputs": [
    {
     "name": "stdout",
     "output_type": "stream",
     "text": [
      "Please input a year yyyy2020\n",
      "Please input a month m4\n",
      "Please input a day d20\n"
     ]
    }
   ],
   "source": [
    "year = input(\"Please input a year yyyy\")\n",
    "month = input(\"Please input a month m\")\n",
    "day = input(\"Please input a day d\")"
   ]
  },
  {
   "cell_type": "code",
   "execution_count": 3,
   "metadata": {},
   "outputs": [
    {
     "ename": "SyntaxError",
     "evalue": "invalid syntax (<ipython-input-3-179bd079ffc0>, line 8)",
     "output_type": "error",
     "traceback": [
      "\u001b[1;36m  File \u001b[1;32m\"<ipython-input-3-179bd079ffc0>\"\u001b[1;36m, line \u001b[1;32m8\u001b[0m\n\u001b[1;33m    function Simple(year,month,day)\u001b[0m\n\u001b[1;37m                  ^\u001b[0m\n\u001b[1;31mSyntaxError\u001b[0m\u001b[1;31m:\u001b[0m invalid syntax\n"
     ]
    }
   ],
   "source": [
    "#http://ben-daglish.net/moon.shtml\n",
    "\n",
    "###Simple###\n",
    "\n",
    "#This simply mods the difference between the date and a known new moon date (1970-01-07) by the length of the lunar period.\n",
    "#For this reason, it is only valid from 1970 onwards.\n",
    "\n",
    "function Simple(year,month,day)\n",
    "{\n",
    "\tvar lp = 2551443; \n",
    "\tvar now = new Date(year,month-1,day,20,35,0);\t\t\t\t\t\t\n",
    "\tvar new_moon = new Date(1970, 0, 7, 20, 35, 0);\n",
    "\tvar phase = ((now.getTime() - new_moon.getTime())/1000) % lp;\n",
    "\treturn Math.floor(phase /(24*3600)) + 1;\n",
    "}\n",
    "\n",
    "#http://ben-daglish.net/moon.shtml"
   ]
  },
  {
   "cell_type": "code",
   "execution_count": null,
   "metadata": {},
   "outputs": [],
   "source": [
    "#http://ben-daglish.net/moon.shtml\n",
    "\n",
    "###Conway###\n",
    "\n",
    "#This is based on a 'do it in your head' algorithm by John Conway. In its current form, it's only valid for the 20th and 21st centuries,\n",
    "#but I'm sure John's got refinements. :)\n",
    "\n",
    "{\t\n",
    "\tvar r = year % 100;\n",
    "\tr %= 19;\n",
    "\tif (r>9){ r -= 19;}\n",
    "\tr = ((r * 11) % 30) + parseInt(month) + parseInt(day);\n",
    "\tif (month<3){r += 2;}\n",
    "\tr -= ((year<2000) ? 4 : 8.3);\n",
    "\tr = Math.floor(r+0.5)%30;\n",
    "\treturn (r < 0) ? r+30 : r;\n",
    "}\n",
    "\n",
    "#http://ben-daglish.net/moon.shtml"
   ]
  },
  {
   "cell_type": "code",
   "execution_count": null,
   "metadata": {},
   "outputs": [],
   "source": [
    "#http://ben-daglish.net/moon.shtml\n",
    "\n",
    "###Both of the Trig functions require the following routine to work out the Julian Day Number.###\n",
    "\n",
    "#Both of the Trig functions require the following routine to work out the Julian Day Number.\n",
    "\n",
    "function julday(year, month, day) {\n",
    "\tif (year < 0) { year ++; }\n",
    "\tvar jy = parseInt(year);\n",
    "\tvar jm = parseInt(month) +1;\n",
    "\tif (month <= 2) {jy--;\tjm += 12;\t} \n",
    "\tvar jul = Math.floor(365.25 *jy) + Math.floor(30.6001 * jm) + parseInt(day) + 1720995;\n",
    "\tif (day+31*(month+12*year) >= (15+31*(10+12*1582))) {\n",
    "\t\tja = Math.floor(0.01 * jy);\n",
    "\t\tjul = jul + 2 - ja + Math.floor(0.25 * ja);\n",
    "\t}\n",
    "\treturn jul;\n",
    "}\n",
    "\n",
    "#http://ben-daglish.net/moon.shtml"
   ]
  },
  {
   "cell_type": "code",
   "execution_count": null,
   "metadata": {},
   "outputs": [],
   "source": [
    "#http://ben-daglish.net/moon.shtml\n",
    "\n",
    "###Trig1###\n",
    "\n",
    "#This is based on some Basic code by Roger W. Sinnot from Sky & Telescope magazine, March 1985. I don't pretend to understand \n",
    "#it - something to do with a first-order approximation to the 'real' calculation of the position of the bodies involved - which I'm still \n",
    "#working on... :)\n",
    "\n",
    "function Trig1(year,month,day) {\n",
    "\tvar thisJD = julday(year,month,day);\n",
    "\tvar degToRad = 3.14159265 / 180;\n",
    "\tvar K0, T, T2, T3, J0, F0, M0, M1, B1, oldJ;\n",
    "\tK0 = Math.floor((year-1900)*12.3685);\n",
    "\tT = (year-1899.5) / 100;\n",
    "\tT2 = T*T; T3 = T*T*T;\n",
    "\tJ0 = 2415020 + 29*K0;\n",
    "\tF0 = 0.0001178*T2 - 0.000000155*T3 + (0.75933 + 0.53058868*K0) - (0.000837*T + 0.000335*T2);\n",
    "\tM0 = 360*(GetFrac(K0*0.08084821133)) + 359.2242 - 0.0000333*T2 - 0.00000347*T3;\n",
    "\tM1 = 360*(GetFrac(K0*0.07171366128)) + 306.0253 + 0.0107306*T2 + 0.00001236*T3;\n",
    "\tB1 = 360*(GetFrac(K0*0.08519585128)) + 21.2964 - (0.0016528*T2) - (0.00000239*T3);\n",
    "\tvar phase = 0;\n",
    "\tvar jday = 0;\n",
    "\twhile (jday < thisJD) {\n",
    "\t\tvar F = F0 + 1.530588*phase;\n",
    "\t\tvar M5 = (M0 + phase*29.10535608)*degToRad;\n",
    "\t\tvar M6 = (M1 + phase*385.81691806)*degToRad;\n",
    "\t\tvar B6 = (B1 + phase*390.67050646)*degToRad;\n",
    "\t\tF -= 0.4068*Math.sin(M6) + (0.1734 - 0.000393*T)*Math.sin(M5);\n",
    "\t\tF += 0.0161*Math.sin(2*M6) + 0.0104*Math.sin(2*B6);\n",
    "\t\tF -= 0.0074*Math.sin(M5 - M6) - 0.0051*Math.sin(M5 + M6);\n",
    "\t\tF += 0.0021*Math.sin(2*M5) + 0.0010*Math.sin(2*B6-M6);\n",
    "\t\tF += 0.5 / 1440; \n",
    "\t\toldJ=jday;\n",
    "\t\tjday = J0 + 28*phase + Math.floor(F); \n",
    "\t\tphase++;\n",
    "\t}\n",
    "\treturn (thisJD-oldJ)%30;\n",
    "}\n",
    "function GetFrac(fr) {\treturn (fr - Math.floor(fr));}\n",
    "\n",
    "#http://ben-daglish.net/moon.shtml"
   ]
  },
  {
   "cell_type": "code",
   "execution_count": null,
   "metadata": {},
   "outputs": [],
   "source": [
    "#http://ben-daglish.net/moon.shtml\n",
    "\n",
    "###Trig2###\n",
    "\n",
    "#This is I think another reworking of the maths in Trig1 - done nicer.\n",
    "\n",
    "function Trig2(year,month,day) {\n",
    "\tn = Math.floor(12.37 * (year -1900 + ((1.0 * month - 0.5)/12.0)));\n",
    "\tRAD = 3.14159265/180.0;\n",
    "\tt = n / 1236.85;\n",
    "\tt2 = t * t;\n",
    "\tas = 359.2242 + 29.105356 * n;\n",
    "\tam = 306.0253 + 385.816918 * n + 0.010730 * t2;\n",
    "\txtra = 0.75933 + 1.53058868 * n + ((1.178e-4) - (1.55e-7) * t) * t2;\n",
    "\txtra += (0.1734 - 3.93e-4 * t) * Math.sin(RAD * as) - 0.4068 * Math.sin(RAD * am);\n",
    "\ti = (xtra > 0.0 ? Math.floor(xtra) :  Math.ceil(xtra - 1.0));\n",
    "\tj1 = julday(year,month,day);\n",
    "\tjd = (2415020 + 28 * n) + i;\n",
    "\treturn (j1-jd + 30)%30;\n",
    "}\n",
    "\n",
    "#http://ben-daglish.net/moon.shtml"
   ]
  }
 ],
 "metadata": {
  "kernelspec": {
   "display_name": "Python 3.6.10 64-bit ('PythonData': conda)",
   "language": "python",
   "name": "python361064bitpythondataconda22b9033498814472bf281a4c68ca027c"
  },
  "language_info": {
   "codemirror_mode": {
    "name": "ipython",
    "version": 3
   },
   "file_extension": ".py",
   "mimetype": "text/x-python",
   "name": "python",
   "nbconvert_exporter": "python",
   "pygments_lexer": "ipython3",
   "version": "3.6.10"
  }
 },
 "nbformat": 4,
 "nbformat_minor": 4
}
