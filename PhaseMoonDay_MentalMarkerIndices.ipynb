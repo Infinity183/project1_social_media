{
 "cells": [
  {
   "cell_type": "code",
   "execution_count": 1,
   "metadata": {},
   "outputs": [],
   "source": [
    "import warnings\n",
    "warnings.filterwarnings('ignore')"
   ]
  },
  {
   "cell_type": "code",
   "execution_count": 2,
   "metadata": {},
   "outputs": [],
   "source": [
    "import pandas as pd\n",
    "import csv\n",
    "import numpy as np\n",
    "import ephem\n",
    "from datetime import datetime\n",
    "\n",
    "%matplotlib inline\n",
    "from matplotlib import pyplot as plt\n",
    "import scipy.stats as stats\n",
    "\n",
    "social_media_path = \"OSF_socialmedia_data.csv\"\n",
    "social_media = pd.read_csv(social_media_path)\n",
    "social_media.rename(columns = {\"Unnamed: 0\": \"Row\"}, inplace = True)\n",
    "social_media.set_index(\"Row\", inplace=True)\n"
   ]
  },
  {
   "cell_type": "code",
   "execution_count": 3,
   "metadata": {},
   "outputs": [],
   "source": [
    "#Drop unnecessary columns\n",
    "social_media = social_media.drop(['LifePak.Download.No','Session.Name', 'Session.Instance.Response.Lapse', 'Instr_DQs', 'Reminders.Delivered', 'Responded', 'Completed.Session'], axis = 1)"
   ]
  },
  {
   "cell_type": "code",
   "execution_count": 4,
   "metadata": {},
   "outputs": [],
   "source": [
    "#Drop rows with NaN\n",
    "social_media = social_media.dropna(axis = 0, how = 'any')"
   ]
  },
  {
   "cell_type": "code",
   "execution_count": 5,
   "metadata": {},
   "outputs": [],
   "source": [
    "#Define function to assign LunarPhase (0.0 thur 1.0) to each row based on the Date column\n",
    "def get_phase_on_day(dt):\n",
    "  \"\"\"Returns a floating-point number from 0-1. where 0=new, 0.5=full, 1=new\"\"\"\n",
    "  #Ephem stores its date numbers as floating points, which the following uses\n",
    "  #to conveniently extract the percent time between one new moon and the next\n",
    "  #This corresponds (somewhat roughly) to the phase of the moon.\n",
    "\n",
    "  #Use Year, Month, Day as arguments\n",
    "  date=ephem.Date(datetime.date(dt))\n",
    "\n",
    "  nnm = ephem.next_new_moon    (date)\n",
    "  pnm = ephem.previous_new_moon(date)\n",
    "\n",
    "  lunation=(date-pnm)/(nnm-pnm)\n",
    "\n",
    "  #Note that there is a ephem.Moon().phase() command, but this returns the\n",
    "  #percentage of the moon which is illuminated. This is not really what we want.\n",
    "\n",
    "  return lunation"
   ]
  },
  {
   "cell_type": "code",
   "execution_count": 6,
   "metadata": {},
   "outputs": [
    {
     "data": {
      "text/plain": [
       "Row\n",
       "1        0.187258\n",
       "2        0.187258\n",
       "3        0.187258\n",
       "4        0.187258\n",
       "6        0.187258\n",
       "           ...   \n",
       "12241    0.948577\n",
       "12242    0.948577\n",
       "12243    0.948577\n",
       "12244    0.948577\n",
       "12245    0.948577\n",
       "Name: Date, Length: 8631, dtype: float64"
      ]
     },
     "execution_count": 6,
     "metadata": {},
     "output_type": "execute_result"
    }
   ],
   "source": [
    "#assign 0.0 to 1.0 LunarPhase using the def get_phase_on_day\n",
    "pd.to_datetime(social_media[\"Date\"]).map(get_phase_on_day)"
   ]
  },
  {
   "cell_type": "code",
   "execution_count": 7,
   "metadata": {},
   "outputs": [],
   "source": [
    "#Populate the LunarPhase column with the Lunar Phase value between 0.0 and 1.0\n",
    "social_media[\"LunarPhase\"] = pd.to_datetime(social_media[\"Date\"]).map(get_phase_on_day)"
   ]
  },
  {
   "cell_type": "code",
   "execution_count": 8,
   "metadata": {},
   "outputs": [],
   "source": [
    "#Slice LunarPhase into discrete a Lunar Phase Day between 1 thru 30 (not all months have 30)\n",
    "bins = [0, 0.0339, 0.0678, 0.1017, 0.1356, 0.1695, 0.2034, 0.2373, 0.2712, 0.3051, 0.3390, 0.3729, 0.4068, 0.4407, 0.4746, 0.5085, 0.5424, 0.5763, 0.6102, 0.6441, 0.6780, 0.7119, 0.7458, 0.7797, 0.8136, 0.8475, 0.8814, 0.9153, 0.9492, 0.9831, 1.0000]\n",
    "\n",
    "LunarPhaseDayGroups = [\"1\", \"2\", \"3\", \"4\", \"5\", \"6\", \"7\", \"8\", \"9\", \"10\", \"11\", \"12\", \"13\", \"14\", \"15\", \"16\", \"17\", \"18\", \"19\", \"20\", \"21\", \"22\", \"23\", \"24\", \"25\", \"26\", \"27\", \"28\", \"29\", \"30\"]\n",
    "\n",
    "social_media[\"LunarPhaseDay\"] = pd.cut(social_media[\"LunarPhase\"], bins, labels=LunarPhaseDayGroups, include_lowest=True)"
   ]
  },
  {
   "cell_type": "code",
   "execution_count": 9,
   "metadata": {},
   "outputs": [
    {
     "data": {
      "text/html": [
       "<div>\n",
       "<style scoped>\n",
       "    .dataframe tbody tr th:only-of-type {\n",
       "        vertical-align: middle;\n",
       "    }\n",
       "\n",
       "    .dataframe tbody tr th {\n",
       "        vertical-align: top;\n",
       "    }\n",
       "\n",
       "    .dataframe thead th {\n",
       "        text-align: right;\n",
       "    }\n",
       "</style>\n",
       "<table border=\"1\" class=\"dataframe\">\n",
       "  <thead>\n",
       "    <tr style=\"text-align: right;\">\n",
       "      <th></th>\n",
       "      <th>Fatigue</th>\n",
       "      <th>DeprMood</th>\n",
       "      <th>Loneliness</th>\n",
       "      <th>Concentrat</th>\n",
       "      <th>LossOfInt</th>\n",
       "      <th>Inferior</th>\n",
       "      <th>Hopeless</th>\n",
       "      <th>Stress</th>\n",
       "    </tr>\n",
       "    <tr>\n",
       "      <th>Row</th>\n",
       "      <th></th>\n",
       "      <th></th>\n",
       "      <th></th>\n",
       "      <th></th>\n",
       "      <th></th>\n",
       "      <th></th>\n",
       "      <th></th>\n",
       "      <th></th>\n",
       "    </tr>\n",
       "  </thead>\n",
       "  <tbody>\n",
       "    <tr>\n",
       "      <th>1</th>\n",
       "      <td>61.0</td>\n",
       "      <td>55.0</td>\n",
       "      <td>61.0</td>\n",
       "      <td>64.0</td>\n",
       "      <td>68.0</td>\n",
       "      <td>50.0</td>\n",
       "      <td>56.0</td>\n",
       "      <td>73.0</td>\n",
       "    </tr>\n",
       "    <tr>\n",
       "      <th>2</th>\n",
       "      <td>28.0</td>\n",
       "      <td>59.0</td>\n",
       "      <td>57.0</td>\n",
       "      <td>70.0</td>\n",
       "      <td>58.0</td>\n",
       "      <td>37.0</td>\n",
       "      <td>56.0</td>\n",
       "      <td>67.0</td>\n",
       "    </tr>\n",
       "    <tr>\n",
       "      <th>3</th>\n",
       "      <td>24.0</td>\n",
       "      <td>20.0</td>\n",
       "      <td>44.0</td>\n",
       "      <td>70.0</td>\n",
       "      <td>67.0</td>\n",
       "      <td>26.0</td>\n",
       "      <td>38.0</td>\n",
       "      <td>39.0</td>\n",
       "    </tr>\n",
       "    <tr>\n",
       "      <th>4</th>\n",
       "      <td>63.0</td>\n",
       "      <td>25.0</td>\n",
       "      <td>56.0</td>\n",
       "      <td>79.0</td>\n",
       "      <td>89.0</td>\n",
       "      <td>30.0</td>\n",
       "      <td>20.0</td>\n",
       "      <td>60.0</td>\n",
       "    </tr>\n",
       "    <tr>\n",
       "      <th>6</th>\n",
       "      <td>16.0</td>\n",
       "      <td>22.0</td>\n",
       "      <td>0.0</td>\n",
       "      <td>27.0</td>\n",
       "      <td>83.0</td>\n",
       "      <td>15.0</td>\n",
       "      <td>3.0</td>\n",
       "      <td>25.0</td>\n",
       "    </tr>\n",
       "    <tr>\n",
       "      <th>...</th>\n",
       "      <td>...</td>\n",
       "      <td>...</td>\n",
       "      <td>...</td>\n",
       "      <td>...</td>\n",
       "      <td>...</td>\n",
       "      <td>...</td>\n",
       "      <td>...</td>\n",
       "      <td>...</td>\n",
       "    </tr>\n",
       "    <tr>\n",
       "      <th>12241</th>\n",
       "      <td>15.0</td>\n",
       "      <td>0.0</td>\n",
       "      <td>0.0</td>\n",
       "      <td>14.0</td>\n",
       "      <td>0.0</td>\n",
       "      <td>0.0</td>\n",
       "      <td>0.0</td>\n",
       "      <td>14.0</td>\n",
       "    </tr>\n",
       "    <tr>\n",
       "      <th>12242</th>\n",
       "      <td>22.0</td>\n",
       "      <td>0.0</td>\n",
       "      <td>0.0</td>\n",
       "      <td>11.0</td>\n",
       "      <td>0.0</td>\n",
       "      <td>0.0</td>\n",
       "      <td>0.0</td>\n",
       "      <td>0.0</td>\n",
       "    </tr>\n",
       "    <tr>\n",
       "      <th>12243</th>\n",
       "      <td>4.0</td>\n",
       "      <td>0.0</td>\n",
       "      <td>0.0</td>\n",
       "      <td>10.0</td>\n",
       "      <td>0.0</td>\n",
       "      <td>0.0</td>\n",
       "      <td>0.0</td>\n",
       "      <td>0.0</td>\n",
       "    </tr>\n",
       "    <tr>\n",
       "      <th>12244</th>\n",
       "      <td>0.0</td>\n",
       "      <td>0.0</td>\n",
       "      <td>8.0</td>\n",
       "      <td>22.0</td>\n",
       "      <td>8.0</td>\n",
       "      <td>0.0</td>\n",
       "      <td>0.0</td>\n",
       "      <td>15.0</td>\n",
       "    </tr>\n",
       "    <tr>\n",
       "      <th>12245</th>\n",
       "      <td>0.0</td>\n",
       "      <td>0.0</td>\n",
       "      <td>0.0</td>\n",
       "      <td>6.0</td>\n",
       "      <td>0.0</td>\n",
       "      <td>0.0</td>\n",
       "      <td>0.0</td>\n",
       "      <td>16.0</td>\n",
       "    </tr>\n",
       "  </tbody>\n",
       "</table>\n",
       "<p>8631 rows × 8 columns</p>\n",
       "</div>"
      ],
      "text/plain": [
       "       Fatigue  DeprMood  Loneliness  Concentrat  LossOfInt  Inferior  \\\n",
       "Row                                                                     \n",
       "1         61.0      55.0        61.0        64.0       68.0      50.0   \n",
       "2         28.0      59.0        57.0        70.0       58.0      37.0   \n",
       "3         24.0      20.0        44.0        70.0       67.0      26.0   \n",
       "4         63.0      25.0        56.0        79.0       89.0      30.0   \n",
       "6         16.0      22.0         0.0        27.0       83.0      15.0   \n",
       "...        ...       ...         ...         ...        ...       ...   \n",
       "12241     15.0       0.0         0.0        14.0        0.0       0.0   \n",
       "12242     22.0       0.0         0.0        11.0        0.0       0.0   \n",
       "12243      4.0       0.0         0.0        10.0        0.0       0.0   \n",
       "12244      0.0       0.0         8.0        22.0        8.0       0.0   \n",
       "12245      0.0       0.0         0.0         6.0        0.0       0.0   \n",
       "\n",
       "       Hopeless  Stress  \n",
       "Row                      \n",
       "1          56.0    73.0  \n",
       "2          56.0    67.0  \n",
       "3          38.0    39.0  \n",
       "4          20.0    60.0  \n",
       "6           3.0    25.0  \n",
       "...         ...     ...  \n",
       "12241       0.0    14.0  \n",
       "12242       0.0     0.0  \n",
       "12243       0.0     0.0  \n",
       "12244       0.0    15.0  \n",
       "12245       0.0    16.0  \n",
       "\n",
       "[8631 rows x 8 columns]"
      ]
     },
     "execution_count": 9,
     "metadata": {},
     "output_type": "execute_result"
    }
   ],
   "source": [
    "#Fillna records with 0 for Ttest function below\n",
    "social_media[[\"Fatigue\",\"DeprMood\",\"Loneliness\",\"Concentrat\",\"LossOfInt\",\"Inferior\",\"Hopeless\",\"Stress\"]].fillna(0)"
   ]
  },
  {
   "cell_type": "code",
   "execution_count": 10,
   "metadata": {},
   "outputs": [
    {
     "data": {
      "text/html": [
       "<div>\n",
       "<style scoped>\n",
       "    .dataframe tbody tr th:only-of-type {\n",
       "        vertical-align: middle;\n",
       "    }\n",
       "\n",
       "    .dataframe tbody tr th {\n",
       "        vertical-align: top;\n",
       "    }\n",
       "\n",
       "    .dataframe thead th {\n",
       "        text-align: right;\n",
       "    }\n",
       "</style>\n",
       "<table border=\"1\" class=\"dataframe\">\n",
       "  <thead>\n",
       "    <tr style=\"text-align: right;\">\n",
       "      <th></th>\n",
       "      <th>Participant</th>\n",
       "      <th>Date</th>\n",
       "      <th>Day</th>\n",
       "      <th>Time</th>\n",
       "      <th>Notification.No</th>\n",
       "      <th>Session.Instance</th>\n",
       "      <th>Fatigue</th>\n",
       "      <th>DeprMood</th>\n",
       "      <th>Loneliness</th>\n",
       "      <th>Concentrat</th>\n",
       "      <th>LossOfInt</th>\n",
       "      <th>Inferior</th>\n",
       "      <th>Hopeless</th>\n",
       "      <th>Stress</th>\n",
       "      <th>PSMU</th>\n",
       "      <th>AutoPSMU</th>\n",
       "      <th>News</th>\n",
       "      <th>Active</th>\n",
       "      <th>LunarPhase</th>\n",
       "      <th>LunarPhaseDay</th>\n",
       "    </tr>\n",
       "    <tr>\n",
       "      <th>Row</th>\n",
       "      <th></th>\n",
       "      <th></th>\n",
       "      <th></th>\n",
       "      <th></th>\n",
       "      <th></th>\n",
       "      <th></th>\n",
       "      <th></th>\n",
       "      <th></th>\n",
       "      <th></th>\n",
       "      <th></th>\n",
       "      <th></th>\n",
       "      <th></th>\n",
       "      <th></th>\n",
       "      <th></th>\n",
       "      <th></th>\n",
       "      <th></th>\n",
       "      <th></th>\n",
       "      <th></th>\n",
       "      <th></th>\n",
       "      <th></th>\n",
       "    </tr>\n",
       "  </thead>\n",
       "  <tbody>\n",
       "    <tr>\n",
       "      <th>1</th>\n",
       "      <td>115091</td>\n",
       "      <td>5/2/2017</td>\n",
       "      <td>Tuesday</td>\n",
       "      <td>10:00:06</td>\n",
       "      <td>1</td>\n",
       "      <td>1.0</td>\n",
       "      <td>61.0</td>\n",
       "      <td>55.0</td>\n",
       "      <td>61.0</td>\n",
       "      <td>64.0</td>\n",
       "      <td>68.0</td>\n",
       "      <td>50.0</td>\n",
       "      <td>56.0</td>\n",
       "      <td>73.0</td>\n",
       "      <td>66.0</td>\n",
       "      <td>66</td>\n",
       "      <td>39.0</td>\n",
       "      <td>38.0</td>\n",
       "      <td>0.187258</td>\n",
       "      <td>6</td>\n",
       "    </tr>\n",
       "    <tr>\n",
       "      <th>2</th>\n",
       "      <td>115091</td>\n",
       "      <td>5/2/2017</td>\n",
       "      <td>Tuesday</td>\n",
       "      <td>12:02:48</td>\n",
       "      <td>2</td>\n",
       "      <td>2.0</td>\n",
       "      <td>28.0</td>\n",
       "      <td>59.0</td>\n",
       "      <td>57.0</td>\n",
       "      <td>70.0</td>\n",
       "      <td>58.0</td>\n",
       "      <td>37.0</td>\n",
       "      <td>56.0</td>\n",
       "      <td>67.0</td>\n",
       "      <td>0.0</td>\n",
       "      <td>#skipped#</td>\n",
       "      <td>27.0</td>\n",
       "      <td>23.0</td>\n",
       "      <td>0.187258</td>\n",
       "      <td>6</td>\n",
       "    </tr>\n",
       "    <tr>\n",
       "      <th>3</th>\n",
       "      <td>115091</td>\n",
       "      <td>5/2/2017</td>\n",
       "      <td>Tuesday</td>\n",
       "      <td>14:03:02</td>\n",
       "      <td>3</td>\n",
       "      <td>3.0</td>\n",
       "      <td>24.0</td>\n",
       "      <td>20.0</td>\n",
       "      <td>44.0</td>\n",
       "      <td>70.0</td>\n",
       "      <td>67.0</td>\n",
       "      <td>26.0</td>\n",
       "      <td>38.0</td>\n",
       "      <td>39.0</td>\n",
       "      <td>63.0</td>\n",
       "      <td>56</td>\n",
       "      <td>34.0</td>\n",
       "      <td>36.0</td>\n",
       "      <td>0.187258</td>\n",
       "      <td>6</td>\n",
       "    </tr>\n",
       "    <tr>\n",
       "      <th>4</th>\n",
       "      <td>115091</td>\n",
       "      <td>5/2/2017</td>\n",
       "      <td>Tuesday</td>\n",
       "      <td>16:34:28</td>\n",
       "      <td>4</td>\n",
       "      <td>4.0</td>\n",
       "      <td>63.0</td>\n",
       "      <td>25.0</td>\n",
       "      <td>56.0</td>\n",
       "      <td>79.0</td>\n",
       "      <td>89.0</td>\n",
       "      <td>30.0</td>\n",
       "      <td>20.0</td>\n",
       "      <td>60.0</td>\n",
       "      <td>67.0</td>\n",
       "      <td>68</td>\n",
       "      <td>29.0</td>\n",
       "      <td>23.0</td>\n",
       "      <td>0.187258</td>\n",
       "      <td>6</td>\n",
       "    </tr>\n",
       "    <tr>\n",
       "      <th>6</th>\n",
       "      <td>115091</td>\n",
       "      <td>5/2/2017</td>\n",
       "      <td>Tuesday</td>\n",
       "      <td>20:02:12</td>\n",
       "      <td>6</td>\n",
       "      <td>5.0</td>\n",
       "      <td>16.0</td>\n",
       "      <td>22.0</td>\n",
       "      <td>0.0</td>\n",
       "      <td>27.0</td>\n",
       "      <td>83.0</td>\n",
       "      <td>15.0</td>\n",
       "      <td>3.0</td>\n",
       "      <td>25.0</td>\n",
       "      <td>16.0</td>\n",
       "      <td>10</td>\n",
       "      <td>0.0</td>\n",
       "      <td>0.0</td>\n",
       "      <td>0.187258</td>\n",
       "      <td>6</td>\n",
       "    </tr>\n",
       "  </tbody>\n",
       "</table>\n",
       "</div>"
      ],
      "text/plain": [
       "     Participant      Date      Day      Time  Notification.No  \\\n",
       "Row                                                              \n",
       "1         115091  5/2/2017  Tuesday  10:00:06                1   \n",
       "2         115091  5/2/2017  Tuesday  12:02:48                2   \n",
       "3         115091  5/2/2017  Tuesday  14:03:02                3   \n",
       "4         115091  5/2/2017  Tuesday  16:34:28                4   \n",
       "6         115091  5/2/2017  Tuesday  20:02:12                6   \n",
       "\n",
       "     Session.Instance  Fatigue  DeprMood  Loneliness  Concentrat  LossOfInt  \\\n",
       "Row                                                                           \n",
       "1                 1.0     61.0      55.0        61.0        64.0       68.0   \n",
       "2                 2.0     28.0      59.0        57.0        70.0       58.0   \n",
       "3                 3.0     24.0      20.0        44.0        70.0       67.0   \n",
       "4                 4.0     63.0      25.0        56.0        79.0       89.0   \n",
       "6                 5.0     16.0      22.0         0.0        27.0       83.0   \n",
       "\n",
       "     Inferior  Hopeless  Stress  PSMU   AutoPSMU  News  Active  LunarPhase  \\\n",
       "Row                                                                          \n",
       "1        50.0      56.0    73.0  66.0         66  39.0    38.0    0.187258   \n",
       "2        37.0      56.0    67.0   0.0  #skipped#  27.0    23.0    0.187258   \n",
       "3        26.0      38.0    39.0  63.0         56  34.0    36.0    0.187258   \n",
       "4        30.0      20.0    60.0  67.0         68  29.0    23.0    0.187258   \n",
       "6        15.0       3.0    25.0  16.0         10   0.0     0.0    0.187258   \n",
       "\n",
       "    LunarPhaseDay  \n",
       "Row                \n",
       "1               6  \n",
       "2               6  \n",
       "3               6  \n",
       "4               6  \n",
       "6               6  "
      ]
     },
     "execution_count": 10,
     "metadata": {},
     "output_type": "execute_result"
    }
   ],
   "source": [
    "#pd.DataFrame\n",
    "social_media_pd = pd.DataFrame(social_media)\n",
    "social_media_pd.head()"
   ]
  },
  {
   "cell_type": "code",
   "execution_count": 11,
   "metadata": {},
   "outputs": [
    {
     "data": {
      "image/png": "[encoded data removed]",
      "text/plain": [
       "<Figure size 432x288 with 4 Axes>"
      ]
     },
     "metadata": {
      "needs_background": "light"
     },
     "output_type": "display_data"
    }
   ],
   "source": [
    "#Plots\n",
    "lunar_phase_day = social_media_pd.groupby([\"LunarPhaseDay\"]).nunique()\n",
    "x_values = lunar_phase_day.index\n",
    "partic = lunar_phase_day[\"Participant\"]\n",
    "\n",
    "lunar_phase_day_sum = social_media_pd.groupby([\"LunarPhaseDay\"]).sum()\n",
    "y_values = lunar_phase_day_sum[\"Fatigue\"]\n",
    "\n",
    "#---\n",
    "plt.subplot(2,3,1)\n",
    "plt.scatter(x_values, y_values, facecolors=\"red\")\n",
    "plt.subplots_adjust(hspace=0.75, wspace=0.4)\n",
    "plt.title(\"Sctr-Fatigue-LunarPhaseDay\")\n",
    "plt.xlabel(\"Lunar Phase Day\")\n",
    "plt.ylabel(\"Fatigue Aggr Score\")\n",
    "#---\n",
    "plt.subplot(2,3,3)\n",
    "plt.plot(x_values, y_values, 'ok', markersize=3, alpha=0.2)\n",
    "plt.subplots_adjust(hspace=0.75, wspace=0.4)\n",
    "plt.title(\"Plot-Fatigue-LunarPhaseDay\")\n",
    "plt.xlabel(\"Lunar Phase Day\")\n",
    "plt.ylabel(\"Fatigue Aggr Score\")\n",
    "#---\n",
    "plt.subplot(2,3,4)\n",
    "plt.scatter(partic, y_values, facecolors=\"red\")\n",
    "plt.subplots_adjust(hspace=0.75, wspace=0.4)\n",
    "plt.title(\"Sctr(Partic)-Fatigue-LunarPhaseDay\")\n",
    "plt.xlabel(\"Lunar Phase Day\")\n",
    "plt.ylabel(\"Fatigue Aggr Score\")\n",
    "#---\n",
    "plt.subplot(2,3,6)\n",
    "plt.hist(partic, 20, density=True, alpha=0.7, label=\"Fatigue\")\n",
    "plt.subplots_adjust(hspace=0.75, wspace=0.4)\n",
    "plt.title(\"Hist-Fatigue-LunarPhaseDay\")\n",
    "plt.xlabel(\"Lunar Phase Day\")\n",
    "plt.ylabel(\"Fatigue Count\")\n",
    "\n",
    "plt.show()"
   ]
  },
  {
   "cell_type": "code",
   "execution_count": 12,
   "metadata": {},
   "outputs": [],
   "source": [
    "#lunar Phase Day Groups (single day bins)\n",
    "lunar_phase_day_01 = social_media_pd[social_media_pd[\"LunarPhaseDay\"] == \"1\"]\n",
    "lunar_phase_day_08 = social_media_pd[social_media_pd[\"LunarPhaseDay\"] == \"8\"]\n",
    "lunar_phase_day_15 = social_media_pd[social_media_pd[\"LunarPhaseDay\"] == \"15\"]\n",
    "lunar_phase_day_22 = social_media_pd[social_media_pd[\"LunarPhaseDay\"] == \"22\"]"
   ]
  },
  {
   "cell_type": "code",
   "execution_count": 13,
   "metadata": {},
   "outputs": [],
   "source": [
    "#01-15 pvalues"
   ]
  },
  {
   "cell_type": "code",
   "execution_count": 14,
   "metadata": {},
   "outputs": [
    {
     "data": {
      "text/plain": [
       "Ttest_indResult(statistic=2.0691752708446907, pvalue=0.0419039154634025)"
      ]
     },
     "execution_count": 14,
     "metadata": {},
     "output_type": "execute_result"
    }
   ],
   "source": [
    "stats.ttest_ind(lunar_phase_day_01.Fatigue, lunar_phase_day_15.Fatigue, equal_var=False)"
   ]
  },
  {
   "cell_type": "code",
   "execution_count": 15,
   "metadata": {},
   "outputs": [
    {
     "data": {
      "text/plain": [
       "Ttest_indResult(statistic=2.8011354117321967, pvalue=0.00644812875784222)"
      ]
     },
     "execution_count": 15,
     "metadata": {},
     "output_type": "execute_result"
    }
   ],
   "source": [
    "stats.ttest_ind(lunar_phase_day_01.DeprMood, lunar_phase_day_15.DeprMood, equal_var=False)"
   ]
  },
  {
   "cell_type": "code",
   "execution_count": 16,
   "metadata": {},
   "outputs": [
    {
     "data": {
      "text/plain": [
       "Ttest_indResult(statistic=2.9655719356512207, pvalue=0.0040880664498253805)"
      ]
     },
     "execution_count": 16,
     "metadata": {},
     "output_type": "execute_result"
    }
   ],
   "source": [
    "stats.ttest_ind(lunar_phase_day_01.Loneliness, lunar_phase_day_15.Loneliness, equal_var=False)"
   ]
  },
  {
   "cell_type": "code",
   "execution_count": 17,
   "metadata": {},
   "outputs": [
    {
     "data": {
      "text/plain": [
       "Ttest_indResult(statistic=1.110881034198267, pvalue=0.2699405439282561)"
      ]
     },
     "execution_count": 17,
     "metadata": {},
     "output_type": "execute_result"
    }
   ],
   "source": [
    "stats.ttest_ind(lunar_phase_day_01.Concentrat, lunar_phase_day_15.Concentrat, equal_var=False)"
   ]
  },
  {
   "cell_type": "code",
   "execution_count": 18,
   "metadata": {},
   "outputs": [
    {
     "data": {
      "text/plain": [
       "Ttest_indResult(statistic=0.9271977737329163, pvalue=0.35654855876381986)"
      ]
     },
     "execution_count": 18,
     "metadata": {},
     "output_type": "execute_result"
    }
   ],
   "source": [
    "stats.ttest_ind(lunar_phase_day_01.LossOfInt, lunar_phase_day_15.LossOfInt, equal_var=False)"
   ]
  },
  {
   "cell_type": "code",
   "execution_count": 19,
   "metadata": {},
   "outputs": [
    {
     "data": {
      "text/plain": [
       "Ttest_indResult(statistic=3.875694116184381, pvalue=0.00023267768739226128)"
      ]
     },
     "execution_count": 19,
     "metadata": {},
     "output_type": "execute_result"
    }
   ],
   "source": [
    "stats.ttest_ind(lunar_phase_day_01.Inferior, lunar_phase_day_15.Inferior, equal_var=False)"
   ]
  },
  {
   "cell_type": "code",
   "execution_count": 20,
   "metadata": {},
   "outputs": [
    {
     "data": {
      "text/plain": [
       "Ttest_indResult(statistic=2.692117078711184, pvalue=0.008728119108679669)"
      ]
     },
     "execution_count": 20,
     "metadata": {},
     "output_type": "execute_result"
    }
   ],
   "source": [
    "stats.ttest_ind(lunar_phase_day_01.Hopeless, lunar_phase_day_15.Hopeless, equal_var=False)"
   ]
  },
  {
   "cell_type": "code",
   "execution_count": 21,
   "metadata": {},
   "outputs": [
    {
     "data": {
      "text/plain": [
       "Ttest_indResult(statistic=3.325761743955751, pvalue=0.001371148414139251)"
      ]
     },
     "execution_count": 21,
     "metadata": {},
     "output_type": "execute_result"
    }
   ],
   "source": [
    "stats.ttest_ind(lunar_phase_day_01.Stress, lunar_phase_day_15.Stress, equal_var=False)"
   ]
  },
  {
   "cell_type": "code",
   "execution_count": 22,
   "metadata": {},
   "outputs": [],
   "source": [
    "#01-08 pvalues"
   ]
  },
  {
   "cell_type": "code",
   "execution_count": 23,
   "metadata": {},
   "outputs": [
    {
     "data": {
      "text/plain": [
       "Ttest_indResult(statistic=2.2264739734639964, pvalue=0.028204820159406056)"
      ]
     },
     "execution_count": 23,
     "metadata": {},
     "output_type": "execute_result"
    }
   ],
   "source": [
    "stats.ttest_ind(lunar_phase_day_01.Fatigue, lunar_phase_day_08.Fatigue, equal_var=False)"
   ]
  },
  {
   "cell_type": "code",
   "execution_count": 24,
   "metadata": {},
   "outputs": [
    {
     "data": {
      "text/plain": [
       "Ttest_indResult(statistic=2.8605626103969706, pvalue=0.005242066645455337)"
      ]
     },
     "execution_count": 24,
     "metadata": {},
     "output_type": "execute_result"
    }
   ],
   "source": [
    "stats.ttest_ind(lunar_phase_day_01.DeprMood, lunar_phase_day_08.DeprMood, equal_var=False)"
   ]
  },
  {
   "cell_type": "code",
   "execution_count": 25,
   "metadata": {},
   "outputs": [
    {
     "data": {
      "text/plain": [
       "Ttest_indResult(statistic=3.1420520509448644, pvalue=0.002318016519856111)"
      ]
     },
     "execution_count": 25,
     "metadata": {},
     "output_type": "execute_result"
    }
   ],
   "source": [
    "stats.ttest_ind(lunar_phase_day_01.Loneliness, lunar_phase_day_08.Loneliness, equal_var=False)"
   ]
  },
  {
   "cell_type": "code",
   "execution_count": 26,
   "metadata": {},
   "outputs": [
    {
     "data": {
      "text/plain": [
       "Ttest_indResult(statistic=1.1970869334976537, pvalue=0.23390493865088624)"
      ]
     },
     "execution_count": 26,
     "metadata": {},
     "output_type": "execute_result"
    }
   ],
   "source": [
    "stats.ttest_ind(lunar_phase_day_01.Concentrat, lunar_phase_day_08.Concentrat, equal_var=False)"
   ]
  },
  {
   "cell_type": "code",
   "execution_count": 27,
   "metadata": {},
   "outputs": [
    {
     "data": {
      "text/plain": [
       "Ttest_indResult(statistic=0.3310443286432865, pvalue=0.741179814090484)"
      ]
     },
     "execution_count": 27,
     "metadata": {},
     "output_type": "execute_result"
    }
   ],
   "source": [
    "stats.ttest_ind(lunar_phase_day_01.LossOfInt, lunar_phase_day_08.LossOfInt, equal_var=False)"
   ]
  },
  {
   "cell_type": "code",
   "execution_count": 28,
   "metadata": {},
   "outputs": [
    {
     "data": {
      "text/plain": [
       "Ttest_indResult(statistic=3.704496915693901, pvalue=0.0003749199276600944)"
      ]
     },
     "execution_count": 28,
     "metadata": {},
     "output_type": "execute_result"
    }
   ],
   "source": [
    "stats.ttest_ind(lunar_phase_day_01.Inferior, lunar_phase_day_08.Inferior, equal_var=False)"
   ]
  },
  {
   "cell_type": "code",
   "execution_count": 29,
   "metadata": {},
   "outputs": [
    {
     "data": {
      "text/plain": [
       "Ttest_indResult(statistic=3.1566235609047317, pvalue=0.0022208791099769328)"
      ]
     },
     "execution_count": 29,
     "metadata": {},
     "output_type": "execute_result"
    }
   ],
   "source": [
    "stats.ttest_ind(lunar_phase_day_01.Hopeless, lunar_phase_day_08.Hopeless, equal_var=False)"
   ]
  },
  {
   "cell_type": "code",
   "execution_count": 30,
   "metadata": {},
   "outputs": [
    {
     "data": {
      "text/plain": [
       "Ttest_indResult(statistic=4.091997969234401, pvalue=9.612766526567004e-05)"
      ]
     },
     "execution_count": 30,
     "metadata": {},
     "output_type": "execute_result"
    }
   ],
   "source": [
    "stats.ttest_ind(lunar_phase_day_01.Stress, lunar_phase_day_08.Stress, equal_var=False)"
   ]
  },
  {
   "cell_type": "code",
   "execution_count": 31,
   "metadata": {},
   "outputs": [],
   "source": [
    "#22-08 pvalues"
   ]
  },
  {
   "cell_type": "code",
   "execution_count": 32,
   "metadata": {},
   "outputs": [
    {
     "data": {
      "text/plain": [
       "Ttest_indResult(statistic=-0.4727842130902323, pvalue=0.636647251344933)"
      ]
     },
     "execution_count": 32,
     "metadata": {},
     "output_type": "execute_result"
    }
   ],
   "source": [
    "stats.ttest_ind(lunar_phase_day_22.Fatigue, lunar_phase_day_08.Fatigue, equal_var=False)"
   ]
  },
  {
   "cell_type": "code",
   "execution_count": 33,
   "metadata": {},
   "outputs": [
    {
     "data": {
      "text/plain": [
       "Ttest_indResult(statistic=-0.39046187088207696, pvalue=0.6964095795201303)"
      ]
     },
     "execution_count": 33,
     "metadata": {},
     "output_type": "execute_result"
    }
   ],
   "source": [
    "stats.ttest_ind(lunar_phase_day_22.DeprMood, lunar_phase_day_08.DeprMood, equal_var=False)"
   ]
  },
  {
   "cell_type": "code",
   "execution_count": 34,
   "metadata": {},
   "outputs": [
    {
     "data": {
      "text/plain": [
       "Ttest_indResult(statistic=0.48412745344467467, pvalue=0.6285518135514414)"
      ]
     },
     "execution_count": 34,
     "metadata": {},
     "output_type": "execute_result"
    }
   ],
   "source": [
    "stats.ttest_ind(lunar_phase_day_22.Loneliness, lunar_phase_day_08.Loneliness, equal_var=False)"
   ]
  },
  {
   "cell_type": "code",
   "execution_count": 35,
   "metadata": {},
   "outputs": [
    {
     "data": {
      "text/plain": [
       "Ttest_indResult(statistic=-0.204486177296582, pvalue=0.8380819569502556)"
      ]
     },
     "execution_count": 35,
     "metadata": {},
     "output_type": "execute_result"
    }
   ],
   "source": [
    "stats.ttest_ind(lunar_phase_day_22.Concentrat, lunar_phase_day_08.Concentrat, equal_var=False)"
   ]
  },
  {
   "cell_type": "code",
   "execution_count": 36,
   "metadata": {},
   "outputs": [
    {
     "data": {
      "text/plain": [
       "Ttest_indResult(statistic=-0.809416532810324, pvalue=0.4188336109299815)"
      ]
     },
     "execution_count": 36,
     "metadata": {},
     "output_type": "execute_result"
    }
   ],
   "source": [
    "stats.ttest_ind(lunar_phase_day_22.LossOfInt, lunar_phase_day_08.LossOfInt, equal_var=False)"
   ]
  },
  {
   "cell_type": "code",
   "execution_count": 37,
   "metadata": {},
   "outputs": [
    {
     "data": {
      "text/plain": [
       "Ttest_indResult(statistic=0.3952617903919965, pvalue=0.6928497952070256)"
      ]
     },
     "execution_count": 37,
     "metadata": {},
     "output_type": "execute_result"
    }
   ],
   "source": [
    "stats.ttest_ind(lunar_phase_day_22.Inferior, lunar_phase_day_08.Inferior, equal_var=False)"
   ]
  },
  {
   "cell_type": "code",
   "execution_count": 38,
   "metadata": {},
   "outputs": [
    {
     "data": {
      "text/plain": [
       "Ttest_indResult(statistic=1.183568119090956, pvalue=0.23718904455493287)"
      ]
     },
     "execution_count": 38,
     "metadata": {},
     "output_type": "execute_result"
    }
   ],
   "source": [
    "stats.ttest_ind(lunar_phase_day_22.Hopeless, lunar_phase_day_08.Hopeless, equal_var=False)"
   ]
  },
  {
   "cell_type": "code",
   "execution_count": 39,
   "metadata": {},
   "outputs": [
    {
     "data": {
      "text/plain": [
       "Ttest_indResult(statistic=-0.05129695114410686, pvalue=0.9591160600953927)"
      ]
     },
     "execution_count": 39,
     "metadata": {},
     "output_type": "execute_result"
    }
   ],
   "source": [
    "stats.ttest_ind(lunar_phase_day_22.Stress, lunar_phase_day_08.Stress, equal_var=False)"
   ]
  },
  {
   "cell_type": "code",
   "execution_count": 40,
   "metadata": {},
   "outputs": [],
   "source": [
    "#The lunar phase cycle is 29.5 days\n",
    "#The Moon takes 27.3 days to orbit Earth, but the lunar phase cycle (from new Moon to new Moon) is 29.5 days. The Moon spends the extra 2.2 days \"catching up\" because Earth travels about 45 million miles around the Sun during the time the Moon completes one orbit around Earth.\n",
    "#https://www.google.com/search?q=number+of+days+in+a+moon+cycle&rlz=1C1CHBD_enUS900US900&oq=number+of+days+in+a+moon+cycle&aqs=chrome..69i57j0l4.7648j0j8&sourceid=chrome&ie=UTF-8"
   ]
  },
  {
   "cell_type": "code",
   "execution_count": 41,
   "metadata": {},
   "outputs": [
    {
     "data": {
      "text/plain": [
       "Participant            int64\n",
       "Date                  object\n",
       "Day                   object\n",
       "Time                  object\n",
       "Notification.No        int64\n",
       "Session.Instance     float64\n",
       "Fatigue              float64\n",
       "DeprMood             float64\n",
       "Loneliness           float64\n",
       "Concentrat           float64\n",
       "LossOfInt            float64\n",
       "Inferior             float64\n",
       "Hopeless             float64\n",
       "Stress               float64\n",
       "PSMU                 float64\n",
       "AutoPSMU              object\n",
       "News                 float64\n",
       "Active               float64\n",
       "LunarPhase           float64\n",
       "LunarPhaseDay       category\n",
       "dtype: object"
      ]
     },
     "execution_count": 41,
     "metadata": {},
     "output_type": "execute_result"
    }
   ],
   "source": [
    "# LunarPhaseDay is a category\n",
    "social_media_pd.dtypes"
   ]
  },
  {
   "cell_type": "code",
   "execution_count": 42,
   "metadata": {},
   "outputs": [],
   "source": [
    "#Export to re-import and change LunarPhaseDay to int64\n",
    "social_media.to_csv(\"social_media_to_csv\")"
   ]
  },
  {
   "cell_type": "code",
   "execution_count": 43,
   "metadata": {},
   "outputs": [
    {
     "data": {
      "text/plain": [
       "Row                   int64\n",
       "Participant           int64\n",
       "Date                 object\n",
       "Day                  object\n",
       "Time                 object\n",
       "Notification.No       int64\n",
       "Session.Instance    float64\n",
       "Fatigue             float64\n",
       "DeprMood            float64\n",
       "Loneliness          float64\n",
       "Concentrat          float64\n",
       "LossOfInt           float64\n",
       "Inferior            float64\n",
       "Hopeless            float64\n",
       "Stress              float64\n",
       "PSMU                float64\n",
       "AutoPSMU             object\n",
       "News                float64\n",
       "Active              float64\n",
       "LunarPhase          float64\n",
       "LunarPhaseDay         int64\n",
       "dtype: object"
      ]
     },
     "execution_count": 43,
     "metadata": {},
     "output_type": "execute_result"
    }
   ],
   "source": [
    "#Import to complete changing LunarPhaseDay from type category to type int64\n",
    "social_media_to_csv_path = \"social_media_to_csv\"\n",
    "social_media_pd = pd.read_csv(social_media_to_csv_path)\n",
    "social_media_pd.dtypes"
   ]
  },
  {
   "cell_type": "code",
   "execution_count": 44,
   "metadata": {},
   "outputs": [
    {
     "name": "stdout",
     "output_type": "stream",
     "text": [
      "The r-squared is: 0.18539176571801144\n",
      "The slope & y-intercept equation is y = 346.27x +5276.18\n"
     ]
    },
    {
     "data": {
      "image/png": "[encoded data removed]",
      "text/plain": [
       "<Figure size 432x288 with 1 Axes>"
      ]
     },
     "metadata": {
      "needs_background": "light"
     },
     "output_type": "display_data"
    }
   ],
   "source": [
    "#Scatterplot Graph Fatigue Aggr Score by Lunar Phase Day\n",
    "\n",
    "lunar_phase_day = social_media_pd.groupby([\"LunarPhaseDay\"]).nunique()\n",
    "x_values = lunar_phase_day.index\n",
    "\n",
    "lunar_phase_day_sum = social_media_pd.groupby([\"LunarPhaseDay\"]).sum()\n",
    "y_values = lunar_phase_day_sum[\"Fatigue\"]\n",
    "\n",
    "(slope, intercept, rvalue, pvalue, stderr) = stats.linregress(x_values, y_values)\n",
    "regress_values = x_values * slope + intercept\n",
    "line_eq = \"y = \" + str(round(slope,2)) + \"x +\" + str(round(intercept,2))\n",
    "\n",
    "plt.scatter(x_values,y_values,facecolors=\"green\")\n",
    "\n",
    "plt.plot(x_values,regress_values,\"r-\")\n",
    "plt.title(\"Sctr-Fatigue-LunarPhaseDay\")\n",
    "plt.xlabel(\"Lunar Phase Day\")\n",
    "plt.ylabel(\"Fatigue Aggr Score\")\n",
    "plt.annotate(line_eq,(40,100),fontsize=15,color=\"black\")\n",
    "plt.grid(True)\n",
    "\n",
    "print(f\"The r-squared is: {rvalue**2}\")\n",
    "print(f\"The slope & y-intercept equation is {line_eq}\")\n",
    "\n",
    "plt.show()"
   ]
  },
  {
   "cell_type": "code",
   "execution_count": 45,
   "metadata": {},
   "outputs": [
    {
     "name": "stdout",
     "output_type": "stream",
     "text": [
      "The r-squared is: 0.16874227242438122\n",
      "The slope & y-intercept equation is y = 0.76x +34.43\n"
     ]
    },
    {
     "data": {
      "image/png": "[encoded data removed]",
      "text/plain": [
       "<Figure size 432x288 with 1 Axes>"
      ]
     },
     "metadata": {
      "needs_background": "light"
     },
     "output_type": "display_data"
    }
   ],
   "source": [
    "#Scatterplot Graph Loneliness Aggr Score by Lunar Phase Day\n",
    "\n",
    "lunar_phase_day = social_media_pd.groupby([\"LunarPhaseDay\"]).nunique()\n",
    "lunar_phase_day_sum = social_media_pd.groupby([\"LunarPhaseDay\"]).sum()\n",
    "\n",
    "x_values = lunar_phase_day.index\n",
    "y_values = lunar_phase_day[\"Loneliness\"]\n",
    "\n",
    "(slope, intercept, rvalue, pvalue, stderr) = stats.linregress(x_values, y_values)\n",
    "regress_values = x_values * slope + intercept\n",
    "line_eq = \"y = \" + str(round(slope,2)) + \"x +\" + str(round(intercept,2))\n",
    "\n",
    "plt.scatter(x_values,y_values,facecolors=\"green\")\n",
    "\n",
    "plt.plot(x_values,regress_values,\"r-\")\n",
    "plt.title(\"Sctr-Loneliness-LunarPhaseDay\")\n",
    "plt.xlabel(\"Lunar Phase Day\")\n",
    "plt.ylabel(\"Loneliness Aggr Score\")\n",
    "plt.annotate(line_eq,(40,100),fontsize=15,color=\"black\")\n",
    "plt.grid(True)\n",
    "\n",
    "print(f\"The r-squared is: {rvalue**2}\")\n",
    "print(f\"The slope & y-intercept equation is {line_eq}\")\n",
    "\n",
    "plt.show()"
   ]
  },
  {
   "cell_type": "code",
   "execution_count": 46,
   "metadata": {},
   "outputs": [
    {
     "name": "stdout",
     "output_type": "stream",
     "text": [
      "The r-squared is: 0.13947733347504815\n",
      "The slope & y-intercept equation is y = 0.61x +34.17\n"
     ]
    },
    {
     "data": {
      "image/png": "[encoded data removed]",
      "text/plain": [
       "<Figure size 432x288 with 1 Axes>"
      ]
     },
     "metadata": {
      "needs_background": "light"
     },
     "output_type": "display_data"
    }
   ],
   "source": [
    "#Scatterplot Graph Inferior Aggr Score by Lunar Phase Day\n",
    "\n",
    "lunar_phase_day = social_media_pd.groupby([\"LunarPhaseDay\"]).nunique()\n",
    "lunar_phase_day_sum = social_media_pd.groupby([\"LunarPhaseDay\"]).sum()\n",
    "\n",
    "x_values = lunar_phase_day.index\n",
    "y_values = lunar_phase_day[\"Inferior\"]\n",
    "\n",
    "(slope, intercept, rvalue, pvalue, stderr) = stats.linregress(x_values, y_values)\n",
    "regress_values = x_values * slope + intercept\n",
    "line_eq = \"y = \" + str(round(slope,2)) + \"x +\" + str(round(intercept,2))\n",
    "\n",
    "plt.scatter(x_values,y_values,facecolors=\"green\")\n",
    "\n",
    "plt.plot(x_values,regress_values,\"r-\")\n",
    "plt.title(\"Sctr-Inferior-LunarPhaseDay\")\n",
    "plt.xlabel(\"Lunar Phase Day\")\n",
    "plt.ylabel(\"Inferior Aggr Score\")\n",
    "plt.annotate(line_eq,(40,100),fontsize=15,color=\"black\")\n",
    "plt.grid(True)\n",
    "\n",
    "print(f\"The r-squared is: {rvalue**2}\")\n",
    "print(f\"The slope & y-intercept equation is {line_eq}\")\n",
    "\n",
    "plt.show()"
   ]
  },
  {
   "cell_type": "code",
   "execution_count": 47,
   "metadata": {},
   "outputs": [
    {
     "name": "stdout",
     "output_type": "stream",
     "text": [
      "The r-squared is: 0.17029788602367177\n",
      "The slope & y-intercept equation is y = 1.01x +42.5\n"
     ]
    },
    {
     "data": {
      "image/png": "[encoded data removed]",
      "text/plain": [
       "<Figure size 432x288 with 1 Axes>"
      ]
     },
     "metadata": {
      "needs_background": "light"
     },
     "output_type": "display_data"
    }
   ],
   "source": [
    "#Scatterplot Graph Stress Aggr Score by Lunar Phase Day\n",
    "\n",
    "lunar_phase_day = social_media_pd.groupby([\"LunarPhaseDay\"]).nunique()\n",
    "lunar_phase_day_sum = social_media_pd.groupby([\"LunarPhaseDay\"]).sum()\n",
    "\n",
    "x_values = lunar_phase_day.index\n",
    "y_values = lunar_phase_day[\"Stress\"]\n",
    "\n",
    "(slope, intercept, rvalue, pvalue, stderr) = stats.linregress(x_values, y_values)\n",
    "regress_values = x_values * slope + intercept\n",
    "line_eq = \"y = \" + str(round(slope,2)) + \"x +\" + str(round(intercept,2))\n",
    "\n",
    "plt.scatter(x_values,y_values,facecolors=\"green\")\n",
    "plt.plot(x_values,regress_values,\"r-\")\n",
    "plt.title(\"Sctr-Stress-LunarPhaseDay\")\n",
    "plt.xlabel(\"Lunar Phase Day\")\n",
    "plt.ylabel(\"Stress Aggr Score\")\n",
    "plt.annotate(line_eq,(40,100),fontsize=15,color=\"black\")\n",
    "plt.grid(True)\n",
    "\n",
    "print(f\"The r-squared is: {rvalue**2}\")\n",
    "print(f\"The slope & y-intercept equation is {line_eq}\")\n",
    "\n",
    "plt.show()"
   ]
  },
  {
   "cell_type": "code",
   "execution_count": null,
   "metadata": {},
   "outputs": [],
   "source": []
  }
 ],
 "metadata": {
  "kernelspec": {
   "display_name": "Python 3.6.10 64-bit ('PythonData': conda)",
   "language": "python",
   "name": "python361064bitpythondataconda22b9033498814472bf281a4c68ca027c"
  },
  "language_info": {
   "codemirror_mode": {
    "name": "ipython",
    "version": 3
   },
   "file_extension": ".py",
   "mimetype": "text/x-python",
   "name": "python",
   "nbconvert_exporter": "python",
   "pygments_lexer": "ipython3",
   "version": "3.6.10"
  }
 },
 "nbformat": 4,
 "nbformat_minor": 4
}
