{
 "cells": [
  {
   "cell_type": "code",
   "execution_count": 1,
   "metadata": {},
   "outputs": [],
   "source": [
    "import pandas as pd"
   ]
  },
  {
   "cell_type": "code",
   "execution_count": 2,
   "metadata": {},
   "outputs": [],
   "source": [
    "path = \"Resources/cleaned_data.csv\"\n",
    "data_df = pd.read_csv(path)"
   ]
  },
  {
   "cell_type": "code",
   "execution_count": 3,
   "metadata": {},
   "outputs": [
    {
     "output_type": "execute_result",
     "data": {
      "text/plain": "   Unnamed: 0  Participant        Date        Day      Time  Notification.No  \\\n0           0       115091  05/02/2017    Tuesday  10:00:06                1   \n1           1       115091  05/02/2017    Tuesday  12:02:48                2   \n2           2       115091  05/02/2017    Tuesday  14:03:02                3   \n3           3       115091  05/02/2017    Tuesday  16:34:28                4   \n4           5       115091  05/02/2017    Tuesday  20:02:12                6   \n5           6       115091  05/02/2017    Tuesday  22:01:31                7   \n6           7       115091  05/03/2017  Wednesday  10:02:28                1   \n7           8       115091  05/03/2017  Wednesday  12:04:05                2   \n8          10       115091  05/03/2017  Wednesday  16:17:52                4   \n9          11       115091  05/03/2017  Wednesday  18:06:06                5   \n\n   Responded  Completed.Session  Session.Instance  Reminders.Delivered  ...  \\\n0          1                  1               1.0                    0  ...   \n1          1                  1               2.0                    0  ...   \n2          1                  1               3.0                    0  ...   \n3          1                  1               4.0                    0  ...   \n4          1                  1               5.0                    0  ...   \n5          1                  1               6.0                    0  ...   \n6          1                  1               7.0                    0  ...   \n7          1                  1               8.0                    0  ...   \n8          1                  1               9.0                    0  ...   \n9          1                  1              10.0                    0  ...   \n\n   Loneliness  Concentrat  LossOfInt  Inferior  Hopeless  Stress  PSMU  \\\n0        61.0        64.0       68.0      50.0      56.0    73.0  66.0   \n1        57.0        70.0       58.0      37.0      56.0    67.0   0.0   \n2        44.0        70.0       67.0      26.0      38.0    39.0  63.0   \n3        56.0        79.0       89.0      30.0      20.0    60.0  67.0   \n4         0.0        27.0       83.0      15.0       3.0    25.0  16.0   \n5         0.0        44.0       72.0      25.0      17.0    52.0   6.0   \n6        19.0        59.0       38.0      13.0      15.0    25.0  57.0   \n7         8.0        64.0       61.0      11.0      19.0    21.0  16.0   \n8        25.0        63.0       66.0       9.0      18.0    69.0  55.0   \n9        29.0        69.0       81.0      17.0      15.0    61.0  69.0   \n\n    AutoPSMU  News Active  \n0         66  39.0   38.0  \n1  #skipped#  27.0   23.0  \n2         56  34.0   36.0  \n3         68  29.0   23.0  \n4         10   0.0    0.0  \n5          2   8.0    1.0  \n6         61  21.0   57.0  \n7         18  10.0   16.0  \n8         18   4.0   25.0  \n9         61  20.0   15.0  \n\n[10 rows x 22 columns]",
      "text/html": "<div>\n<style scoped>\n    .dataframe tbody tr th:only-of-type {\n        vertical-align: middle;\n    }\n\n    .dataframe tbody tr th {\n        vertical-align: top;\n    }\n\n    .dataframe thead th {\n        text-align: right;\n    }\n</style>\n<table border=\"1\" class=\"dataframe\">\n  <thead>\n    <tr style=\"text-align: right;\">\n      <th></th>\n      <th>Unnamed: 0</th>\n      <th>Participant</th>\n      <th>Date</th>\n      <th>Day</th>\n      <th>Time</th>\n      <th>Notification.No</th>\n      <th>Responded</th>\n      <th>Completed.Session</th>\n      <th>Session.Instance</th>\n      <th>Reminders.Delivered</th>\n      <th>...</th>\n      <th>Loneliness</th>\n      <th>Concentrat</th>\n      <th>LossOfInt</th>\n      <th>Inferior</th>\n      <th>Hopeless</th>\n      <th>Stress</th>\n      <th>PSMU</th>\n      <th>AutoPSMU</th>\n      <th>News</th>\n      <th>Active</th>\n    </tr>\n  </thead>\n  <tbody>\n    <tr>\n      <th>0</th>\n      <td>0</td>\n      <td>115091</td>\n      <td>05/02/2017</td>\n      <td>Tuesday</td>\n      <td>10:00:06</td>\n      <td>1</td>\n      <td>1</td>\n      <td>1</td>\n      <td>1.0</td>\n      <td>0</td>\n      <td>...</td>\n      <td>61.0</td>\n      <td>64.0</td>\n      <td>68.0</td>\n      <td>50.0</td>\n      <td>56.0</td>\n      <td>73.0</td>\n      <td>66.0</td>\n      <td>66</td>\n      <td>39.0</td>\n      <td>38.0</td>\n    </tr>\n    <tr>\n      <th>1</th>\n      <td>1</td>\n      <td>115091</td>\n      <td>05/02/2017</td>\n      <td>Tuesday</td>\n      <td>12:02:48</td>\n      <td>2</td>\n      <td>1</td>\n      <td>1</td>\n      <td>2.0</td>\n      <td>0</td>\n      <td>...</td>\n      <td>57.0</td>\n      <td>70.0</td>\n      <td>58.0</td>\n      <td>37.0</td>\n      <td>56.0</td>\n      <td>67.0</td>\n      <td>0.0</td>\n      <td>#skipped#</td>\n      <td>27.0</td>\n      <td>23.0</td>\n    </tr>\n    <tr>\n      <th>2</th>\n      <td>2</td>\n      <td>115091</td>\n      <td>05/02/2017</td>\n      <td>Tuesday</td>\n      <td>14:03:02</td>\n      <td>3</td>\n      <td>1</td>\n      <td>1</td>\n      <td>3.0</td>\n      <td>0</td>\n      <td>...</td>\n      <td>44.0</td>\n      <td>70.0</td>\n      <td>67.0</td>\n      <td>26.0</td>\n      <td>38.0</td>\n      <td>39.0</td>\n      <td>63.0</td>\n      <td>56</td>\n      <td>34.0</td>\n      <td>36.0</td>\n    </tr>\n    <tr>\n      <th>3</th>\n      <td>3</td>\n      <td>115091</td>\n      <td>05/02/2017</td>\n      <td>Tuesday</td>\n      <td>16:34:28</td>\n      <td>4</td>\n      <td>1</td>\n      <td>1</td>\n      <td>4.0</td>\n      <td>0</td>\n      <td>...</td>\n      <td>56.0</td>\n      <td>79.0</td>\n      <td>89.0</td>\n      <td>30.0</td>\n      <td>20.0</td>\n      <td>60.0</td>\n      <td>67.0</td>\n      <td>68</td>\n      <td>29.0</td>\n      <td>23.0</td>\n    </tr>\n    <tr>\n      <th>4</th>\n      <td>5</td>\n      <td>115091</td>\n      <td>05/02/2017</td>\n      <td>Tuesday</td>\n      <td>20:02:12</td>\n      <td>6</td>\n      <td>1</td>\n      <td>1</td>\n      <td>5.0</td>\n      <td>0</td>\n      <td>...</td>\n      <td>0.0</td>\n      <td>27.0</td>\n      <td>83.0</td>\n      <td>15.0</td>\n      <td>3.0</td>\n      <td>25.0</td>\n      <td>16.0</td>\n      <td>10</td>\n      <td>0.0</td>\n      <td>0.0</td>\n    </tr>\n    <tr>\n      <th>5</th>\n      <td>6</td>\n      <td>115091</td>\n      <td>05/02/2017</td>\n      <td>Tuesday</td>\n      <td>22:01:31</td>\n      <td>7</td>\n      <td>1</td>\n      <td>1</td>\n      <td>6.0</td>\n      <td>0</td>\n      <td>...</td>\n      <td>0.0</td>\n      <td>44.0</td>\n      <td>72.0</td>\n      <td>25.0</td>\n      <td>17.0</td>\n      <td>52.0</td>\n      <td>6.0</td>\n      <td>2</td>\n      <td>8.0</td>\n      <td>1.0</td>\n    </tr>\n    <tr>\n      <th>6</th>\n      <td>7</td>\n      <td>115091</td>\n      <td>05/03/2017</td>\n      <td>Wednesday</td>\n      <td>10:02:28</td>\n      <td>1</td>\n      <td>1</td>\n      <td>1</td>\n      <td>7.0</td>\n      <td>0</td>\n      <td>...</td>\n      <td>19.0</td>\n      <td>59.0</td>\n      <td>38.0</td>\n      <td>13.0</td>\n      <td>15.0</td>\n      <td>25.0</td>\n      <td>57.0</td>\n      <td>61</td>\n      <td>21.0</td>\n      <td>57.0</td>\n    </tr>\n    <tr>\n      <th>7</th>\n      <td>8</td>\n      <td>115091</td>\n      <td>05/03/2017</td>\n      <td>Wednesday</td>\n      <td>12:04:05</td>\n      <td>2</td>\n      <td>1</td>\n      <td>1</td>\n      <td>8.0</td>\n      <td>0</td>\n      <td>...</td>\n      <td>8.0</td>\n      <td>64.0</td>\n      <td>61.0</td>\n      <td>11.0</td>\n      <td>19.0</td>\n      <td>21.0</td>\n      <td>16.0</td>\n      <td>18</td>\n      <td>10.0</td>\n      <td>16.0</td>\n    </tr>\n    <tr>\n      <th>8</th>\n      <td>10</td>\n      <td>115091</td>\n      <td>05/03/2017</td>\n      <td>Wednesday</td>\n      <td>16:17:52</td>\n      <td>4</td>\n      <td>1</td>\n      <td>1</td>\n      <td>9.0</td>\n      <td>0</td>\n      <td>...</td>\n      <td>25.0</td>\n      <td>63.0</td>\n      <td>66.0</td>\n      <td>9.0</td>\n      <td>18.0</td>\n      <td>69.0</td>\n      <td>55.0</td>\n      <td>18</td>\n      <td>4.0</td>\n      <td>25.0</td>\n    </tr>\n    <tr>\n      <th>9</th>\n      <td>11</td>\n      <td>115091</td>\n      <td>05/03/2017</td>\n      <td>Wednesday</td>\n      <td>18:06:06</td>\n      <td>5</td>\n      <td>1</td>\n      <td>1</td>\n      <td>10.0</td>\n      <td>0</td>\n      <td>...</td>\n      <td>29.0</td>\n      <td>69.0</td>\n      <td>81.0</td>\n      <td>17.0</td>\n      <td>15.0</td>\n      <td>61.0</td>\n      <td>69.0</td>\n      <td>61</td>\n      <td>20.0</td>\n      <td>15.0</td>\n    </tr>\n  </tbody>\n</table>\n<p>10 rows × 22 columns</p>\n</div>"
     },
     "metadata": {},
     "execution_count": 3
    }
   ],
   "source": [
    "data_df.head(10)"
   ]
  },
  {
   "cell_type": "code",
   "execution_count": null,
   "metadata": {},
   "outputs": [],
   "source": [
    "# Just seeing what this does."
   ]
  }
 ],
 "metadata": {
  "language_info": {
   "codemirror_mode": {
    "name": "ipython",
    "version": 3
   },
   "file_extension": ".py",
   "mimetype": "text/x-python",
   "name": "python",
   "nbconvert_exporter": "python",
   "pygments_lexer": "ipython3",
   "version": 3
  },
  "orig_nbformat": 2,
  "kernelspec": {
   "name": "python_defaultSpec_1594927810614",
   "display_name": "Python 3.6.10 64-bit ('PythonData': conda)"
  }
 },
 "nbformat": 4,
 "nbformat_minor": 2
}